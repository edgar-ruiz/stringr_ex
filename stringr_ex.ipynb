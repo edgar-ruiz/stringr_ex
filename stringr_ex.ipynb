{
 "cells": [
  {
   "cell_type": "markdown",
   "metadata": {},
   "source": [
    "# Práctica de expresiones regulares\n",
    "\n",
    "## 1. Manipula direcciones\n",
    "\n",
    "Este es un ejercicio intermedio. Los resultados puedes encontrarlos en el código adjunto en la plataforma. \n",
    "\n",
    "En el primer problema pensemos que trabajamos para una empresa de paquetería en territorio estadounidense que organiza la logística de entrega a partir de la dirección de sus destinatarios. Ahora trabajaremos con una base muy sencilla que tendrá algunas direcciones, mismas que deberás separar en el nombre de la calle, el número y el barrio al que se dirige la entrega.\n",
    "\n",
    "Démosle un vistazo a la base de datos:"
   ]
  },
  {
   "cell_type": "code",
   "execution_count": 1,
   "metadata": {},
   "outputs": [],
   "source": [
    "# Cargamos las paqueterías que necesitaremos\n",
    "library(stringr)\n",
    "library(dplyr)\n",
    "\n",
    "# Cargamos la base de datos\n",
    "df_direcciones <- read.csv(\"datos/direcciones_US.csv\", stringsAsFactors = FALSE)\n",
    "glimpse(df_direcciones)"
   ]
  },
  {
   "cell_type": "markdown",
   "metadata": {},
   "source": [
    "Queremos extraer el número de la dirección que se encuentra en la variable **dirección**. Utilizamos la función *str_extract()* con la variable como\n",
    "primer argumento, y con la expresión regular **\"\\\\\\\\d+\"**\n",
    "\n",
    "*(Recuerda que en R utilizamos dobles diagonales invertidas \\\\\\\\ para que\n",
    "se interprete como una diagonal invertida \\\\ )*\n"
   ]
  },
  {
   "cell_type": "code",
   "execution_count": null,
   "metadata": {},
   "outputs": [],
   "source": [
    "df.albercas$numero <- str_extract(...)\n",
    "glimpse(df.albercas)"
   ]
  },
  {
   "cell_type": "markdown",
   "metadata": {},
   "source": [
    "Ahora queremos recuperar el condado en donde se encuentran cada una de\n",
    "las dierecciones. \n",
    "\n",
    "Esta expresión regular **\\\\\\\\b\\[^,\\]+\\\\$** es compleja: significa\n",
    "identifica una palabra que en su borde **(\\\\\\\\b)** inicial tenga una coma **([^,])**\n",
    "una o más veces **(+)** y que se encuentre al final de la dirección **(\\\\$)**\n",
    "\n",
    "El resultado es que encontrará todas las palabras buscando desde el\n",
    "final, hasta donde encuentre una coma.\n",
    "\n",
    "*Estas expresiones se aprenden a construirlas con la práctica. Para eso, en el aula encontrarás un libro especializado en construcción de expresiones regulares.*"
   ]
  },
  {
   "cell_type": "code",
   "execution_count": null,
   "metadata": {},
   "outputs": [],
   "source": [
    "### Crea la variable condado e imprime el vector para confirmar tu selección\n",
    "...\n",
    "..."
   ]
  },
  {
   "cell_type": "markdown",
   "metadata": {},
   "source": [
    "## 2. Ahora es tu turno\n",
    "\n",
    "Tenemos una base de registro a un taller que darás. Importemos la base y echemos un vistazo."
   ]
  },
  {
   "cell_type": "code",
   "execution_count": null,
   "metadata": {},
   "outputs": [],
   "source": [
    "# Cargamos la base de datos\n",
    "df_registro <- read.csv(\"datos/Registro-asistencia.csv\", stringsAsFactors = FALSE)\n",
    "glimpse(df_registro)\n",
    "head(df_registro)"
   ]
  },
  {
   "cell_type": "markdown",
   "metadata": {},
   "source": [
    "Como en cualquier registro en línea, algunos datos que introducen las y los participantes no son correctos. Para la comprobación de nuestro taller es muy importante contar con las CURPs de ellos.\n",
    "\n",
    "En la siguiente tarea te pedimos que verifiques los CURPs, para que todos tengan la siguiente forma:\n",
    "\n",
    "* Cuatro letras iniciales, más\n",
    "* Seis números que correspondan a la fecha de nacimiento de cada participante (AA-MM-DD), más\n",
    "* Una letra H o M (mayúscula o minúscula) que corresponde a su sexo biológico, más\n",
    "* Cinco letras, más\n",
    "* Dos dígitos finales."
   ]
  },
  {
   "cell_type": "code",
   "execution_count": null,
   "metadata": {},
   "outputs": [],
   "source": [
    "# Realiza las modificaciones al código para lograrlo\n",
    "# Primero identifica las observaciones que cumplan\n",
    "# con la forma de letras y números XXXX000000HXXXXX00 con H igual a (H o M)\n",
    "df_registro$indic <- str_...(..., \"...\")\n",
    "\n",
    "# Número de filas antes de filtrar\n",
    "nrow(df_registro)\n",
    "# Filtramos las que cumplen con nuestra condición\n",
    "df_registro <- dplyr::filter(df, indic==TRUE)\n",
    "# Número de filas después de filtrar\n",
    "nrow(df_registro)\n",
    "\n",
    "# Ahora revisa si los dígitos de la CURP corresponden\n",
    "# a los que declara en su variable nac. Para eso\n",
    "# creamos dos variables nuevas con las cifras que corresponden\n",
    "\n",
    "df_registro$anio <- str_...(..., \"[0-9]{6}\")\n",
    "df_registro$anio2 <- paste(str_...(...), str_...(...), str_...(...),\n",
    "                  sep=...)\n",
    "\n",
    "# Creamos una variable con TRUE cuando ambos años son iguales\n",
    "df_registro$indic <- df$anio == df$anio2\n",
    "\n",
    "# Y ordenamos la base para dejar los FALSE de la \n",
    "# variable indic hasta arriba\n",
    "df_registro <- ...\n",
    "\n",
    "# ¿Puedes identificar por qué no están bien las\n",
    "# CURPs de las primeras observaciones?\n",
    "head(df_registro)"
   ]
  }
 ],
 "metadata": {
  "kernelspec": {
   "display_name": "R",
   "language": "R",
   "name": "ir"
  },
  "language_info": {
   "codemirror_mode": "r",
   "file_extension": ".r",
   "mimetype": "text/x-r-source",
   "name": "R",
   "pygments_lexer": "r",
   "version": "3.6.3"
  }
 },
 "nbformat": 4,
 "nbformat_minor": 2
}
